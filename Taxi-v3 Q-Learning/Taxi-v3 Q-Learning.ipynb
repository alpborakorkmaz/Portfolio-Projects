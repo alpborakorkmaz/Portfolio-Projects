{
 "cells": [
  {
   "cell_type": "code",
   "execution_count": 2,
   "id": "aa19a3cc-9fc2-4778-b6ad-15bb0bdcb3a6",
   "metadata": {},
   "outputs": [],
   "source": [
    "import gym\n",
    "import numpy as np\n",
    "import random\n",
    "from tqdm import tqdm"
   ]
  },
  {
   "cell_type": "code",
   "execution_count": 3,
   "id": "4b3fe1da-68cd-4e49-bb58-ac88741981d6",
   "metadata": {},
   "outputs": [
    {
     "name": "stdout",
     "output_type": "stream",
     "text": [
      "+---------+\n",
      "|\u001b[34;1mR\u001b[0m: | : :G|\n",
      "| : | : : |\n",
      "| : : : : |\n",
      "| | : | : |\n",
      "|Y| : |\u001b[35m\u001b[43mB\u001b[0m\u001b[0m: |\n",
      "+---------+\n",
      "\n",
      "\n"
     ]
    }
   ],
   "source": [
    "env = gym.make(\"Taxi-v3\", render_mode=\"ansi\")\n",
    "env.reset()\n",
    "print(env.render())"
   ]
  },
  {
   "cell_type": "code",
   "execution_count": 4,
   "id": "6e137092-dd5c-4b07-82a7-3d6e0dac5812",
   "metadata": {},
   "outputs": [],
   "source": [
    "action_space = env.action_space.n\n",
    "state_space = env.observation_space.n\n",
    "\n",
    "q_table = np.zeros((state_space, action_space))\n",
    "\n",
    "alpha = 0.1 # learning rate\n",
    "gamma = 0.6 # discount rate\n",
    "epsilon = 0.1 # epsilon"
   ]
  },
  {
   "cell_type": "code",
   "execution_count": 5,
   "id": "ed2dd943-f7d5-4ffb-a67c-3dfd79e9d892",
   "metadata": {},
   "outputs": [
    {
     "name": "stderr",
     "output_type": "stream",
     "text": [
      "100%|██████████| 100000/100000 [01:09<00:00, 1433.18it/s]"
     ]
    },
    {
     "name": "stdout",
     "output_type": "stream",
     "text": [
      "Training finished\n"
     ]
    },
    {
     "name": "stderr",
     "output_type": "stream",
     "text": [
      "\n"
     ]
    }
   ],
   "source": [
    "for i in tqdm(range(1, 100001)):\n",
    "    \n",
    "    state, _ = env.reset()\n",
    "    \n",
    "    done = False\n",
    "    \n",
    "    while not done:\n",
    "        \n",
    "        if random.uniform(0,1) < epsilon:  # explore %10\n",
    "            action = env.action_space.sample()\n",
    "        else: # exploit \n",
    "            action = np.argmax(q_table[state])\n",
    "    \n",
    "        next_state, reward, done, info, _  = env.step(action)\n",
    "        \n",
    "        q_table[state, action] = q_table[state, action] + alpha * (reward + gamma * np.max(q_table[next_state]) - q_table[state, action]) \n",
    "        \n",
    "        state = next_state\n",
    "        \n",
    "print(\"Training finished\")"
   ]
  },
  {
   "cell_type": "code",
   "execution_count": 6,
   "id": "da661028-980d-46f9-8092-943d5b113b71",
   "metadata": {},
   "outputs": [
    {
     "name": "stderr",
     "output_type": "stream",
     "text": [
      "100%|██████████| 100/100 [00:00<00:00, 917.57it/s]\n"
     ]
    }
   ],
   "source": [
    "# test\n",
    "total_epoch, total_penalties = 0, 0\n",
    "episodes = 100\n",
    "\n",
    "for i in tqdm(range(episodes)):\n",
    "    \n",
    "    state, _ = env.reset()\n",
    "    \n",
    "    epochs, penalties, reward = 0, 0, 0\n",
    "    \n",
    "    done = False\n",
    "    \n",
    "    while not done:\n",
    "        \n",
    "        action = np.argmax(q_table[state])\n",
    "    \n",
    "        next_state, reward, done, info, _  = env.step(action)\n",
    "                \n",
    "        state = next_state\n",
    "        \n",
    "        if reward == -10:\n",
    "            penalties += 1\n",
    "            \n",
    "        epochs += 1\n",
    "    \n",
    "    total_epoch += epochs\n",
    "    total_penalties += penalties"
   ]
  },
  {
   "cell_type": "code",
   "execution_count": 7,
   "id": "246520c7-c052-46ee-b963-67320684b561",
   "metadata": {},
   "outputs": [
    {
     "name": "stdout",
     "output_type": "stream",
     "text": [
      "Result after 100 episodes\n",
      "Average timesteps per episode:  12.81\n",
      "Average penalties per episode:  0.0\n"
     ]
    }
   ],
   "source": [
    "print(\"Result after {} episodes\".format(episodes))\n",
    "print(\"Average timesteps per episode: \", total_epoch / episodes)\n",
    "print(\"Average penalties per episode: \", total_penalties / episodes)"
   ]
  }
 ],
 "metadata": {
  "kernelspec": {
   "display_name": "Python 3 (ipykernel)",
   "language": "python",
   "name": "python3"
  },
  "language_info": {
   "codemirror_mode": {
    "name": "ipython",
    "version": 3
   },
   "file_extension": ".py",
   "mimetype": "text/x-python",
   "name": "python",
   "nbconvert_exporter": "python",
   "pygments_lexer": "ipython3",
   "version": "3.10.16"
  }
 },
 "nbformat": 4,
 "nbformat_minor": 5
}
