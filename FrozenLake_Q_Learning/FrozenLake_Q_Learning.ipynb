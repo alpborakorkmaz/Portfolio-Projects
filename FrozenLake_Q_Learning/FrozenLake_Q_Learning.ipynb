{
 "cells": [
  {
   "cell_type": "code",
   "execution_count": 1,
   "id": "566ff98a-3d68-4eb7-a798-f665f02a3aff",
   "metadata": {},
   "outputs": [],
   "source": [
    "import gym\n",
    "import random\n",
    "import numpy as np\n",
    "import matplotlib.pyplot as plt\n",
    "from tqdm import tqdm"
   ]
  },
  {
   "cell_type": "code",
   "execution_count": 2,
   "id": "fb1f47d1-6490-498a-88bc-4f85a1123915",
   "metadata": {},
   "outputs": [
    {
     "name": "stdout",
     "output_type": "stream",
     "text": [
      "Q-table:\n",
      "[[0. 0. 0. 0.]\n",
      " [0. 0. 0. 0.]\n",
      " [0. 0. 0. 0.]\n",
      " [0. 0. 0. 0.]\n",
      " [0. 0. 0. 0.]\n",
      " [0. 0. 0. 0.]\n",
      " [0. 0. 0. 0.]\n",
      " [0. 0. 0. 0.]\n",
      " [0. 0. 0. 0.]\n",
      " [0. 0. 0. 0.]\n",
      " [0. 0. 0. 0.]\n",
      " [0. 0. 0. 0.]\n",
      " [0. 0. 0. 0.]\n",
      " [0. 0. 0. 0.]\n",
      " [0. 0. 0. 0.]\n",
      " [0. 0. 0. 0.]]\n"
     ]
    }
   ],
   "source": [
    "environment = gym.make(\"FrozenLake-v1\", is_slippery=False, render_mode=\"ansi\")\n",
    "environment.reset()\n",
    "\n",
    "nb_states = environment.observation_space.n\n",
    "nb_actions = environment.action_space.n\n",
    "qtable = np.zeros((nb_states, nb_actions))\n",
    "\n",
    "print(\"Q-table:\")\n",
    "print(qtable)"
   ]
  },
  {
   "cell_type": "code",
   "execution_count": 3,
   "id": "8c052d51-771f-4d10-a477-92b2c901507c",
   "metadata": {},
   "outputs": [],
   "source": [
    "action = environment.action_space.sample()\n",
    "new_state, reward, done, info, _ = environment.step(action)"
   ]
  },
  {
   "cell_type": "code",
   "execution_count": 4,
   "id": "f5daba2a-c283-41eb-8785-7017c0f12f90",
   "metadata": {},
   "outputs": [],
   "source": [
    "episodes = 1000 # episode\n",
    "alpha = 0.5 # learning rate\n",
    "gamma = 0.9 # discount rate\n",
    "\n",
    "outcomes = []\t"
   ]
  },
  {
   "cell_type": "code",
   "execution_count": 5,
   "id": "f83f7f83-310b-4121-af3e-bf5cf7fdaa4b",
   "metadata": {},
   "outputs": [
    {
     "name": "stderr",
     "output_type": "stream",
     "text": [
      "100%|██████████| 1000/1000 [00:00<00:00, 3599.80it/s]"
     ]
    },
    {
     "name": "stdout",
     "output_type": "stream",
     "text": [
      "Qtable After Training: \n",
      "[[0.       0.       0.59049  0.      ]\n",
      " [0.       0.       0.6561   0.      ]\n",
      " [0.       0.729    0.       0.      ]\n",
      " [0.       0.       0.       0.      ]\n",
      " [0.       0.       0.       0.      ]\n",
      " [0.       0.       0.       0.      ]\n",
      " [0.       0.81     0.       0.      ]\n",
      " [0.       0.       0.       0.      ]\n",
      " [0.       0.       0.       0.      ]\n",
      " [0.       0.       0.       0.      ]\n",
      " [0.       0.9      0.       0.      ]\n",
      " [0.       0.       0.       0.      ]\n",
      " [0.       0.       0.       0.      ]\n",
      " [0.       0.       0.421875 0.      ]\n",
      " [0.       0.       1.       0.      ]\n",
      " [0.       0.       0.       0.      ]]\n"
     ]
    },
    {
     "name": "stderr",
     "output_type": "stream",
     "text": [
      "\n"
     ]
    }
   ],
   "source": [
    "# training\n",
    "for _ in tqdm(range(episodes)):\n",
    "    \n",
    "    state, _ = environment.reset()\n",
    "    done = False \n",
    "    outcomes.append(\"Failure\")\n",
    "    \n",
    "    while not done:\n",
    "        \n",
    "        # action\n",
    "        if np.max(qtable[state]) > 0:\n",
    "            action = np.argmax(qtable[state])\n",
    "        else:\n",
    "            action = environment.action_space.sample()\n",
    "            \n",
    "        new_state, reward, done, info, _ = environment.step(action)\n",
    "        \n",
    "        # update q table\n",
    "        qtable[state, action] =  qtable[state, action] + alpha * (reward + gamma * np.max(qtable[new_state]) - qtable[state, action])\n",
    "        \n",
    "        state = new_state\n",
    "        \n",
    "        if reward:\n",
    "            outcomes[-1] = \"Success\"\n",
    "        \n",
    "print(\"Qtable After Training: \")  \n",
    "print(qtable)"
   ]
  },
  {
   "cell_type": "code",
   "execution_count": 6,
   "id": "bb5b84ac-5281-4bfc-abf9-aa615985586f",
   "metadata": {},
   "outputs": [
    {
     "data": {
      "text/plain": [
       "<BarContainer object of 1000 artists>"
      ]
     },
     "execution_count": 6,
     "metadata": {},
     "output_type": "execute_result"
    },
    {
     "data": {
      "image/png": "[encoded data removed]",
      "text/plain": [
       "<Figure size 640x480 with 1 Axes>"
      ]
     },
     "metadata": {},
     "output_type": "display_data"
    }
   ],
   "source": [
    "plt.bar(range(episodes), outcomes)"
   ]
  },
  {
   "cell_type": "code",
   "execution_count": 7,
   "id": "cd1eff21-0d91-49f3-bdc3-5d2650295c18",
   "metadata": {},
   "outputs": [
    {
     "name": "stderr",
     "output_type": "stream",
     "text": [
      "100%|██████████| 100/100 [00:00<00:00, 2326.59it/s]"
     ]
    },
    {
     "name": "stdout",
     "output_type": "stream",
     "text": [
      "Success rate: 100.0\n"
     ]
    },
    {
     "name": "stderr",
     "output_type": "stream",
     "text": [
      "\n"
     ]
    }
   ],
   "source": [
    "episodes = 100\n",
    "nb_success = 0\n",
    "\n",
    "for _ in tqdm(range(episodes)):\n",
    "    \n",
    "    state, _ = environment.reset()\n",
    "    done = False \n",
    "    \n",
    "    while not done: \n",
    "        \n",
    "        # action\n",
    "        if np.max(qtable[state]) > 0:\n",
    "            action = np.argmax(qtable[state])\n",
    "        else:\n",
    "            action = environment.action_space.sample()\n",
    "            \n",
    "        new_state, reward, done, info, _ = environment.step(action)\n",
    "                \n",
    "        state = new_state\n",
    "        \n",
    "        nb_success += reward\n",
    "        \n",
    "print(\"Success rate:\", 100*nb_success/episodes)  "
   ]
  }
 ],
 "metadata": {
  "kernelspec": {
   "display_name": "Python 3 (ipykernel)",
   "language": "python",
   "name": "python3"
  },
  "language_info": {
   "codemirror_mode": {
    "name": "ipython",
    "version": 3
   },
   "file_extension": ".py",
   "mimetype": "text/x-python",
   "name": "python",
   "nbconvert_exporter": "python",
   "pygments_lexer": "ipython3",
   "version": "3.10.16"
  }
 },
 "nbformat": 4,
 "nbformat_minor": 5
}
